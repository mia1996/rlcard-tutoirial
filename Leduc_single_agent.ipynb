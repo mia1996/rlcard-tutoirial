{
  "nbformat": 4,
  "nbformat_minor": 0,
  "metadata": {
    "colab": {
      "name": "Leduc_single_agent.ipynb",
      "provenance": [],
      "collapsed_sections": [],
      "include_colab_link": true
    },
    "kernelspec": {
      "name": "python3",
      "display_name": "Python 3"
    }
  },
  "cells": [
    {
      "cell_type": "markdown",
      "metadata": {
        "id": "view-in-github",
        "colab_type": "text"
      },
      "source": [
        "<a href=\"https://colab.research.google.com/github/mia1996/rlcard-tutoirial/blob/master/Leduc_single_agent.ipynb\" target=\"_parent\"><img src=\"https://colab.research.google.com/assets/colab-badge.svg\" alt=\"Open In Colab\"/></a>"
      ]
    },
    {
      "cell_type": "markdown",
      "metadata": {
        "id": "miBl4S8JARzX",
        "colab_type": "text"
      },
      "source": [
        "\n",
        "\n",
        "# <a href='https://github.com/datamllab/rlcard'> <center> <img src='https://miro.medium.com/max/1000/1*_9abDpNTM9Cbsd2HEXYm9Q.png' width=500 class='center' /></a> \n",
        "\n",
        "## **Leduc Hold'em as Single-Agent Environment**\n",
        "We have wrraped the environment as single agent environment by assuming that other players play with pre-trained models. The interfaces are exactly the same to OpenAI Gym. Thus, any single-agent algorithm can be connected to the environment. An example of Leduc Hold'em is as below:"
      ]
    },
    {
      "cell_type": "markdown",
      "metadata": {
        "id": "l3abG4ylhBKc",
        "colab_type": "text"
      },
      "source": [
        "* First, we install Rlcard and Tensorflow. To use Tensorflow implementation of the example algorithms, we recommend to install the supported verison of Tensorflow with `rlcard[tensorflow]`."
      ]
    },
    {
      "cell_type": "code",
      "metadata": {
        "id": "zQ8CiXAJjQGi",
        "colab_type": "code",
        "outputId": "30993bb2-6673-4c28-e4b0-4718a257f814",
        "colab": {
          "base_uri": "https://localhost:8080/",
          "height": 204
        }
      },
      "source": [
        "pip install rlcard"
      ],
      "execution_count": 0,
      "outputs": [
        {
          "output_type": "stream",
          "text": [
            "Requirement already satisfied: rlcard in /usr/local/lib/python3.6/dist-packages (0.2.4)\n",
            "Requirement already satisfied: packaging in /usr/local/lib/python3.6/dist-packages (from rlcard) (20.4)\n",
            "Requirement already satisfied: pillow>=5.2.0 in /usr/local/lib/python3.6/dist-packages (from rlcard) (7.0.0)\n",
            "Requirement already satisfied: numpy>=1.16.3 in /usr/local/lib/python3.6/dist-packages (from rlcard) (1.18.4)\n",
            "Requirement already satisfied: termcolor in /usr/local/lib/python3.6/dist-packages (from rlcard) (1.1.0)\n",
            "Requirement already satisfied: matplotlib>=3.0 in /usr/local/lib/python3.6/dist-packages (from rlcard) (3.2.1)\n",
            "Requirement already satisfied: six in /usr/local/lib/python3.6/dist-packages (from packaging->rlcard) (1.12.0)\n",
            "Requirement already satisfied: pyparsing>=2.0.2 in /usr/local/lib/python3.6/dist-packages (from packaging->rlcard) (2.4.7)\n",
            "Requirement already satisfied: python-dateutil>=2.1 in /usr/local/lib/python3.6/dist-packages (from matplotlib>=3.0->rlcard) (2.8.1)\n",
            "Requirement already satisfied: cycler>=0.10 in /usr/local/lib/python3.6/dist-packages (from matplotlib>=3.0->rlcard) (0.10.0)\n",
            "Requirement already satisfied: kiwisolver>=1.0.1 in /usr/local/lib/python3.6/dist-packages (from matplotlib>=3.0->rlcard) (1.2.0)\n"
          ],
          "name": "stdout"
        }
      ]
    },
    {
      "cell_type": "code",
      "metadata": {
        "id": "4_A_Br3Jj0xW",
        "colab_type": "code",
        "outputId": "5dbd8ee1-e1b6-4340-d650-232752bf7d14",
        "colab": {
          "base_uri": "https://localhost:8080/",
          "height": 564
        }
      },
      "source": [
        "pip install rlcard[tensorflow]"
      ],
      "execution_count": 0,
      "outputs": [
        {
          "output_type": "stream",
          "text": [
            "Requirement already satisfied: rlcard[tensorflow] in /usr/local/lib/python3.6/dist-packages (0.2.4)\n",
            "Requirement already satisfied: numpy>=1.16.3 in /usr/local/lib/python3.6/dist-packages (from rlcard[tensorflow]) (1.18.4)\n",
            "Requirement already satisfied: matplotlib>=3.0 in /usr/local/lib/python3.6/dist-packages (from rlcard[tensorflow]) (3.2.1)\n",
            "Requirement already satisfied: pillow>=5.2.0 in /usr/local/lib/python3.6/dist-packages (from rlcard[tensorflow]) (7.0.0)\n",
            "Requirement already satisfied: termcolor in /usr/local/lib/python3.6/dist-packages (from rlcard[tensorflow]) (1.1.0)\n",
            "Requirement already satisfied: packaging in /usr/local/lib/python3.6/dist-packages (from rlcard[tensorflow]) (20.4)\n",
            "Requirement already satisfied: tensorflow<2.0,>=1.14; extra == \"tensorflow\" in /usr/local/lib/python3.6/dist-packages (from rlcard[tensorflow]) (1.15.3)\n",
            "Requirement already satisfied: python-dateutil>=2.1 in /usr/local/lib/python3.6/dist-packages (from matplotlib>=3.0->rlcard[tensorflow]) (2.8.1)\n",
            "Requirement already satisfied: cycler>=0.10 in /usr/local/lib/python3.6/dist-packages (from matplotlib>=3.0->rlcard[tensorflow]) (0.10.0)\n",
            "Requirement already satisfied: kiwisolver>=1.0.1 in /usr/local/lib/python3.6/dist-packages (from matplotlib>=3.0->rlcard[tensorflow]) (1.2.0)\n",
            "Requirement already satisfied: pyparsing!=2.0.4,!=2.1.2,!=2.1.6,>=2.0.1 in /usr/local/lib/python3.6/dist-packages (from matplotlib>=3.0->rlcard[tensorflow]) (2.4.7)\n",
            "Requirement already satisfied: six in /usr/local/lib/python3.6/dist-packages (from packaging->rlcard[tensorflow]) (1.12.0)\n",
            "Requirement already satisfied: grpcio>=1.8.6 in /usr/local/lib/python3.6/dist-packages (from tensorflow<2.0,>=1.14; extra == \"tensorflow\"->rlcard[tensorflow]) (1.29.0)\n",
            "Requirement already satisfied: opt-einsum>=2.3.2 in /usr/local/lib/python3.6/dist-packages (from tensorflow<2.0,>=1.14; extra == \"tensorflow\"->rlcard[tensorflow]) (3.2.1)\n",
            "Requirement already satisfied: gast==0.2.2 in /usr/local/lib/python3.6/dist-packages (from tensorflow<2.0,>=1.14; extra == \"tensorflow\"->rlcard[tensorflow]) (0.2.2)\n",
            "Requirement already satisfied: google-pasta>=0.1.6 in /usr/local/lib/python3.6/dist-packages (from tensorflow<2.0,>=1.14; extra == \"tensorflow\"->rlcard[tensorflow]) (0.2.0)\n",
            "Requirement already satisfied: tensorflow-estimator==1.15.1 in /usr/local/lib/python3.6/dist-packages (from tensorflow<2.0,>=1.14; extra == \"tensorflow\"->rlcard[tensorflow]) (1.15.1)\n",
            "Requirement already satisfied: keras-applications>=1.0.8 in /usr/local/lib/python3.6/dist-packages (from tensorflow<2.0,>=1.14; extra == \"tensorflow\"->rlcard[tensorflow]) (1.0.8)\n",
            "Requirement already satisfied: keras-preprocessing>=1.0.5 in /usr/local/lib/python3.6/dist-packages (from tensorflow<2.0,>=1.14; extra == \"tensorflow\"->rlcard[tensorflow]) (1.1.2)\n",
            "Requirement already satisfied: wrapt>=1.11.1 in /usr/local/lib/python3.6/dist-packages (from tensorflow<2.0,>=1.14; extra == \"tensorflow\"->rlcard[tensorflow]) (1.12.1)\n",
            "Requirement already satisfied: astor>=0.6.0 in /usr/local/lib/python3.6/dist-packages (from tensorflow<2.0,>=1.14; extra == \"tensorflow\"->rlcard[tensorflow]) (0.8.1)\n",
            "Requirement already satisfied: wheel>=0.26; python_version >= \"3\" in /usr/local/lib/python3.6/dist-packages (from tensorflow<2.0,>=1.14; extra == \"tensorflow\"->rlcard[tensorflow]) (0.34.2)\n",
            "Requirement already satisfied: absl-py>=0.7.0 in /usr/local/lib/python3.6/dist-packages (from tensorflow<2.0,>=1.14; extra == \"tensorflow\"->rlcard[tensorflow]) (0.9.0)\n",
            "Requirement already satisfied: protobuf>=3.6.1 in /usr/local/lib/python3.6/dist-packages (from tensorflow<2.0,>=1.14; extra == \"tensorflow\"->rlcard[tensorflow]) (3.10.0)\n",
            "Requirement already satisfied: tensorboard<1.16.0,>=1.15.0 in /usr/local/lib/python3.6/dist-packages (from tensorflow<2.0,>=1.14; extra == \"tensorflow\"->rlcard[tensorflow]) (1.15.0)\n",
            "Requirement already satisfied: h5py in /usr/local/lib/python3.6/dist-packages (from keras-applications>=1.0.8->tensorflow<2.0,>=1.14; extra == \"tensorflow\"->rlcard[tensorflow]) (2.10.0)\n",
            "Requirement already satisfied: setuptools in /usr/local/lib/python3.6/dist-packages (from protobuf>=3.6.1->tensorflow<2.0,>=1.14; extra == \"tensorflow\"->rlcard[tensorflow]) (47.1.1)\n",
            "Requirement already satisfied: werkzeug>=0.11.15 in /usr/local/lib/python3.6/dist-packages (from tensorboard<1.16.0,>=1.15.0->tensorflow<2.0,>=1.14; extra == \"tensorflow\"->rlcard[tensorflow]) (1.0.1)\n",
            "Requirement already satisfied: markdown>=2.6.8 in /usr/local/lib/python3.6/dist-packages (from tensorboard<1.16.0,>=1.15.0->tensorflow<2.0,>=1.14; extra == \"tensorflow\"->rlcard[tensorflow]) (3.2.2)\n",
            "Requirement already satisfied: importlib-metadata; python_version < \"3.8\" in /usr/local/lib/python3.6/dist-packages (from markdown>=2.6.8->tensorboard<1.16.0,>=1.15.0->tensorflow<2.0,>=1.14; extra == \"tensorflow\"->rlcard[tensorflow]) (1.6.0)\n",
            "Requirement already satisfied: zipp>=0.5 in /usr/local/lib/python3.6/dist-packages (from importlib-metadata; python_version < \"3.8\"->markdown>=2.6.8->tensorboard<1.16.0,>=1.15.0->tensorflow<2.0,>=1.14; extra == \"tensorflow\"->rlcard[tensorflow]) (3.1.0)\n"
          ],
          "name": "stdout"
        }
      ]
    },
    {
      "cell_type": "markdown",
      "metadata": {
        "id": "E-eajbB7hCiB",
        "colab_type": "text"
      },
      "source": [
        "* Then, we import the modules that are wraped up in rlcard packages. Before the training process, we make the environment, set the iterations numbers, the initial memory size and how frequently we evaluate the performance. Finally, we save the performance data and learning curves to our current path as ./log."
      ]
    },
    {
      "cell_type": "code",
      "metadata": {
        "id": "l_8Kuf47kghG",
        "colab_type": "code",
        "colab": {}
      },
      "source": [
        "import tensorflow as tf\n",
        "import os\n",
        "import numpy as np\n",
        "\n",
        "import rlcard\n",
        "from rlcard.agents import DQNAgent\n",
        "from rlcard.agents import RandomAgent\n",
        "from rlcard.utils import set_global_seed, tournament\n",
        "from rlcard.utils import Logger"
      ],
      "execution_count": 0,
      "outputs": []
    },
    {
      "cell_type": "code",
      "metadata": {
        "id": "8bqfMncnJTYU",
        "colab_type": "code",
        "colab": {}
      },
      "source": [
        "# Make environment\n",
        "env = rlcard.make('leduc-holdem', config={'seed': 0, 'single_agent_mode':True})\n",
        "eval_env = rlcard.make('leduc-holdem', config={'seed': 0, 'single_agent_mode':True})\n"
      ],
      "execution_count": 0,
      "outputs": []
    },
    {
      "cell_type": "code",
      "metadata": {
        "id": "GhgGYyick13x",
        "colab_type": "code",
        "outputId": "a752e263-e46d-4937-a73c-ccc26578170c",
        "colab": {
          "base_uri": "https://localhost:8080/",
          "height": 51
        }
      },
      "source": [
        "\n",
        "# Set the iterations numbers and how frequently we evaluate/save plot\n",
        "evaluate_every = 1000\n",
        "evaluate_num = 10000\n",
        "timesteps = 10000\n",
        "\n",
        "# The intial memory size\n",
        "memory_init_size = 1000\n",
        "\n",
        "# Train the agent every X steps\n",
        "train_every = 1\n",
        "\n",
        "# The paths for saving the logs and learning curves\n",
        "log_dir = './experiments/leduc_holdem_single_dqn_result/'\n",
        "\n",
        "# Set a global seed\n",
        "set_global_seed(0)"
      ],
      "execution_count": 0,
      "outputs": [
        {
          "output_type": "stream",
          "text": [
            "WARNING:tensorflow:From /usr/local/lib/python3.6/dist-packages/rlcard/utils/utils.py:332: The name tf.set_random_seed is deprecated. Please use tf.compat.v1.set_random_seed instead.\n",
            "\n"
          ],
          "name": "stdout"
        }
      ]
    },
    {
      "cell_type": "markdown",
      "metadata": {
        "id": "XWGwbGRCh-z8",
        "colab_type": "text"
      },
      "source": [
        "Now, we could trian our game with single agent. The Logger is used to plot the learning curve and save it to the same directory as we set up for log. After training the game, we could see the training performance and plot as below."
      ]
    },
    {
      "cell_type": "code",
      "metadata": {
        "id": "rYAj8Q22k5e2",
        "colab_type": "code",
        "outputId": "db0cf3de-81ae-4e50-a2a0-07846b50f28f",
        "colab": {
          "base_uri": "https://localhost:8080/",
          "height": 1000
        }
      },
      "source": [
        "with tf.Session() as sess:\n",
        "\n",
        "    # Initialize a global step\n",
        "    global_step = tf.Variable(0, name='global_step', trainable=False)\n",
        "\n",
        "    # Set up the agents\n",
        "    agent = DQNAgent(sess,\n",
        "                     scope='dqn',\n",
        "                     action_num=env.action_num,\n",
        "                     replay_memory_init_size=memory_init_size,\n",
        "                     train_every=train_every,\n",
        "                     state_shape=env.state_shape,\n",
        "                     mlp_layers=[128,128])\n",
        "    # Initialize global variables\n",
        "    sess.run(tf.global_variables_initializer())\n",
        "\n",
        "    # Init a Logger to plot the learning curve\n",
        "    logger = Logger(log_dir)\n",
        "\n",
        "    state = env.reset()\n",
        "\n",
        "    for timestep in range(timesteps):\n",
        "        action = agent.step(state)\n",
        "        next_state, reward, done = env.step(action)\n",
        "        ts = (state, action, reward, next_state, done)\n",
        "        agent.feed(ts)\n",
        "\n",
        "        if timestep % evaluate_every == 0:\n",
        "            rewards = []\n",
        "            state = eval_env.reset()\n",
        "            for _ in range(evaluate_num):\n",
        "                action, _ = agent.eval_step(state)\n",
        "                _, reward, done = env.step(action)\n",
        "                if done:\n",
        "                    rewards.append(reward)\n",
        "            logger.log_performance(env.timestep, np.mean(rewards))"
      ],
      "execution_count": 0,
      "outputs": [
        {
          "output_type": "stream",
          "text": [
            "WARNING:tensorflow:From /usr/local/lib/python3.6/dist-packages/rlcard/agents/dqn_agent.py:239: The name tf.variable_scope is deprecated. Please use tf.compat.v1.variable_scope instead.\n",
            "\n",
            "WARNING:tensorflow:From /usr/local/lib/python3.6/dist-packages/rlcard/agents/dqn_agent.py:256: The name tf.placeholder is deprecated. Please use tf.compat.v1.placeholder instead.\n",
            "\n",
            "WARNING:tensorflow:From /usr/local/lib/python3.6/dist-packages/rlcard/agents/dqn_agent.py:267: batch_normalization (from tensorflow.python.layers.normalization) is deprecated and will be removed in a future version.\n",
            "Instructions for updating:\n",
            "Use keras.layers.BatchNormalization instead.  In particular, `tf.control_dependencies(tf.GraphKeys.UPDATE_OPS)` should not be used (consult the `tf.keras.layers.batch_normalization` documentation).\n",
            "WARNING:tensorflow:From /usr/local/lib/python3.6/dist-packages/tensorflow_core/python/layers/normalization.py:327: Layer.apply (from tensorflow.python.keras.engine.base_layer) is deprecated and will be removed in a future version.\n",
            "Instructions for updating:\n",
            "Please use `layer.__call__` method instead.\n",
            "WARNING:tensorflow:\n",
            "The TensorFlow contrib module will not be included in TensorFlow 2.0.\n",
            "For more information, please see:\n",
            "  * https://github.com/tensorflow/community/blob/master/rfcs/20180907-contrib-sunset.md\n",
            "  * https://github.com/tensorflow/addons\n",
            "  * https://github.com/tensorflow/io (for I/O related ops)\n",
            "If you depend on functionality not listed there, please file an issue.\n",
            "\n",
            "WARNING:tensorflow:From /usr/local/lib/python3.6/dist-packages/tensorflow_core/contrib/layers/python/layers/layers.py:1634: flatten (from tensorflow.python.layers.core) is deprecated and will be removed in a future version.\n",
            "Instructions for updating:\n",
            "Use keras.layers.flatten instead.\n",
            "WARNING:tensorflow:From /usr/local/lib/python3.6/dist-packages/rlcard/agents/dqn_agent.py:280: The name tf.squared_difference is deprecated. Please use tf.math.squared_difference instead.\n",
            "\n",
            "WARNING:tensorflow:From /usr/local/lib/python3.6/dist-packages/rlcard/agents/dqn_agent.py:242: The name tf.get_collection is deprecated. Please use tf.compat.v1.get_collection instead.\n",
            "\n",
            "WARNING:tensorflow:From /usr/local/lib/python3.6/dist-packages/rlcard/agents/dqn_agent.py:242: The name tf.GraphKeys is deprecated. Please use tf.compat.v1.GraphKeys instead.\n",
            "\n",
            "WARNING:tensorflow:From /usr/local/lib/python3.6/dist-packages/rlcard/agents/dqn_agent.py:242: The name tf.get_variable_scope is deprecated. Please use tf.compat.v1.get_variable_scope instead.\n",
            "\n",
            "WARNING:tensorflow:From /usr/local/lib/python3.6/dist-packages/rlcard/agents/dqn_agent.py:244: The name tf.train.AdamOptimizer is deprecated. Please use tf.compat.v1.train.AdamOptimizer instead.\n",
            "\n",
            "WARNING:tensorflow:From /usr/local/lib/python3.6/dist-packages/rlcard/agents/dqn_agent.py:247: get_global_step (from tensorflow.contrib.framework.python.ops.variables) is deprecated and will be removed in a future version.\n",
            "Instructions for updating:\n",
            "Please switch to tf.train.get_global_step\n",
            "\n",
            "----------------------------------------\n",
            "  timestep     |  20069\n",
            "  reward       |  -1.7734082397003745\n",
            "----------------------------------------\n",
            "INFO - Agent dqn, step 1000, rl-loss: 1.709949016571045WARNING:tensorflow:From /usr/local/lib/python3.6/dist-packages/rlcard/agents/dqn_agent.py:364: The name tf.trainable_variables is deprecated. Please use tf.compat.v1.trainable_variables instead.\n",
            "\n",
            "\n",
            "INFO - Copied model parameters to target network.\n",
            "INFO - Agent dqn, step 1001, rl-loss: 3.4169702529907227\n",
            "----------------------------------------\n",
            "  timestep     |  41469\n",
            "  reward       |  -0.625618083352955\n",
            "----------------------------------------\n",
            "INFO - Agent dqn, step 2000, rl-loss: 3.9564058780670166\n",
            "INFO - Copied model parameters to target network.\n",
            "INFO - Agent dqn, step 2001, rl-loss: 3.609344482421875\n",
            "----------------------------------------\n",
            "  timestep     |  63464\n",
            "  reward       |  -1.7472014925373134\n",
            "----------------------------------------\n",
            "INFO - Agent dqn, step 3000, rl-loss: 2.4792330265045166\n",
            "INFO - Copied model parameters to target network.\n",
            "INFO - Agent dqn, step 3001, rl-loss: 2.0205612182617188\n",
            "----------------------------------------\n",
            "  timestep     |  84896\n",
            "  reward       |  -0.638422035480859\n",
            "----------------------------------------\n",
            "INFO - Agent dqn, step 4000, rl-loss: 3.3005881309509277\n",
            "INFO - Copied model parameters to target network.\n",
            "INFO - Agent dqn, step 4001, rl-loss: 4.908963680267334\n",
            "----------------------------------------\n",
            "  timestep     |  106354\n",
            "  reward       |  -0.536625321787971\n",
            "----------------------------------------\n",
            "INFO - Agent dqn, step 5000, rl-loss: 5.814244747161865\n",
            "INFO - Copied model parameters to target network.\n",
            "INFO - Agent dqn, step 5001, rl-loss: 2.166139841079712\n",
            "----------------------------------------\n",
            "  timestep     |  127781\n",
            "  reward       |  -0.6095729704364148\n",
            "----------------------------------------\n",
            "INFO - Agent dqn, step 6000, rl-loss: 2.414486885070801\n",
            "INFO - Copied model parameters to target network.\n",
            "INFO - Agent dqn, step 6001, rl-loss: 0.5722752809524536\n",
            "----------------------------------------\n",
            "  timestep     |  149864\n",
            "  reward       |  -1.6861416218742697\n",
            "----------------------------------------\n",
            "INFO - Agent dqn, step 7000, rl-loss: 1.3474594354629517\n",
            "INFO - Copied model parameters to target network.\n",
            "INFO - Agent dqn, step 7001, rl-loss: 1.7938257455825806\n",
            "----------------------------------------\n",
            "  timestep     |  171322\n",
            "  reward       |  -0.5728654970760234\n",
            "----------------------------------------\n",
            "INFO - Agent dqn, step 8000, rl-loss: 2.077929973602295\n",
            "INFO - Copied model parameters to target network.\n",
            "INFO - Agent dqn, step 8001, rl-loss: 4.314877033233643\n",
            "----------------------------------------\n",
            "  timestep     |  192742\n",
            "  reward       |  -0.6269077248180324\n",
            "----------------------------------------\n",
            "INFO - Agent dqn, step 9000, rl-loss: 0.17945218086242676\n",
            "INFO - Copied model parameters to target network.\n",
            "INFO - Agent dqn, step 9001, rl-loss: 4.949650287628174\n",
            "----------------------------------------\n",
            "  timestep     |  214170\n",
            "  reward       |  -0.5933756166314306\n",
            "----------------------------------------\n",
            "INFO - Agent dqn, step 10000, rl-loss: 2.09645938873291\n",
            "INFO - Copied model parameters to target network.\n"
          ],
          "name": "stdout"
        }
      ]
    },
    {
      "cell_type": "code",
      "metadata": {
        "id": "06n2QSTDIqb0",
        "colab_type": "code",
        "outputId": "36cb4d31-d05d-49f2-8d64-c3761c4215a2",
        "colab": {
          "base_uri": "https://localhost:8080/",
          "height": 296
        }
      },
      "source": [
        "# Close files in the logger\n",
        "logger.close_files()\n",
        "\n",
        "# Plot the learning curve\n",
        "logger.plot('DQN')\n",
        "    "
      ],
      "execution_count": 0,
      "outputs": [
        {
          "output_type": "stream",
          "text": [
            "./experiments/leduc_holdem_single_dqn_result/performance.csv\n"
          ],
          "name": "stdout"
        },
        {
          "output_type": "display_data",
          "data": {
            "image/png": "[encoded data removed]",
            "text/plain": [
              "<Figure size 432x288 with 1 Axes>"
            ]
          },
          "metadata": {
            "tags": [],
            "needs_background": "light"
          }
        }
      ]
    }
  ]
}